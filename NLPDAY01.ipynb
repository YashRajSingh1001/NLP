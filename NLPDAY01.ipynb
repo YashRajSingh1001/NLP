{
  "nbformat": 4,
  "nbformat_minor": 0,
  "metadata": {
    "colab": {
      "provenance": []
    },
    "kernelspec": {
      "name": "python3",
      "display_name": "Python 3"
    },
    "language_info": {
      "name": "python"
    }
  },
  "cells": [
    {
      "cell_type": "code",
      "source": [
        "#17th Dec'24\n",
        "import nltk\n",
        "nltk.download('punkt_tab')\n",
        "\n",
        "corpus = \"In a small village nestled between rolling hills and a sparkling river, there lived a curious cat named Whiskers. Whiskers loved to explore every nook and cranny of the village! from the bustling market square to the quiet, shaded woods. One day, while chasing a particularly elusive butterfly, Whiskers stumbled upon a hidden path that led to a secret garden. The garden was filled with vibrant flowers, towering trees, and a gentle stream that whispered secrets of the past. Whiskers knew that this magical place would be their new favorite spot for adventures and daydreams.\"\n",
        "\n",
        "#Paragraph into sentences\n",
        "from nltk.tokenize import sent_tokenize\n",
        "documents = sent_tokenize(corpus)\n",
        "documents"
      ],
      "metadata": {
        "colab": {
          "base_uri": "https://localhost:8080/"
        },
        "id": "EoWIuRVd8bV2",
        "outputId": "851adc09-8ee2-4a05-d323-b829aa3adf9a"
      },
      "execution_count": 36,
      "outputs": [
        {
          "output_type": "stream",
          "name": "stderr",
          "text": [
            "[nltk_data] Downloading package punkt_tab to /root/nltk_data...\n",
            "[nltk_data]   Package punkt_tab is already up-to-date!\n"
          ]
        },
        {
          "output_type": "execute_result",
          "data": {
            "text/plain": [
              "['In a small village nestled between rolling hills and a sparkling river, there lived a curious cat named Whiskers.',\n",
              " 'Whiskers loved to explore every nook and cranny of the village!',\n",
              " 'from the bustling market square to the quiet, shaded woods.',\n",
              " 'One day, while chasing a particularly elusive butterfly, Whiskers stumbled upon a hidden path that led to a secret garden.',\n",
              " 'The garden was filled with vibrant flowers, towering trees, and a gentle stream that whispered secrets of the past.',\n",
              " 'Whiskers knew that this magical place would be their new favorite spot for adventures and daydreams.']"
            ]
          },
          "metadata": {},
          "execution_count": 36
        }
      ]
    },
    {
      "cell_type": "code",
      "source": [
        "#Sentence into words\n",
        "from nltk.tokenize import word_tokenize"
      ],
      "metadata": {
        "id": "vUmuS-r58zX3"
      },
      "execution_count": 8,
      "outputs": []
    },
    {
      "cell_type": "code",
      "source": [],
      "metadata": {
        "id": "q0nDF-xtKG3N"
      },
      "execution_count": null,
      "outputs": []
    },
    {
      "cell_type": "code",
      "source": [],
      "metadata": {
        "id": "K0_LZ-xhKHBc"
      },
      "execution_count": null,
      "outputs": []
    },
    {
      "cell_type": "code",
      "source": [
        "words = word_tokenize(corpus)"
      ],
      "metadata": {
        "id": "ypK1MJ9P6wdc"
      },
      "execution_count": 9,
      "outputs": []
    },
    {
      "cell_type": "code",
      "source": [
        "words"
      ],
      "metadata": {
        "colab": {
          "base_uri": "https://localhost:8080/"
        },
        "id": "Re-8AoAq6zm2",
        "outputId": "879558c4-e237-40e3-b26b-54f86d62b818"
      },
      "execution_count": 10,
      "outputs": [
        {
          "output_type": "execute_result",
          "data": {
            "text/plain": [
              "['In',\n",
              " 'a',\n",
              " 'small',\n",
              " 'village',\n",
              " 'nestled',\n",
              " 'between',\n",
              " 'rolling',\n",
              " 'hills',\n",
              " 'and',\n",
              " 'a',\n",
              " 'sparkling',\n",
              " 'river',\n",
              " ',',\n",
              " 'there',\n",
              " 'lived',\n",
              " 'a',\n",
              " 'curious',\n",
              " 'cat',\n",
              " 'named',\n",
              " 'Whiskers',\n",
              " '.',\n",
              " 'Whiskers',\n",
              " 'loved',\n",
              " 'to',\n",
              " 'explore',\n",
              " 'every',\n",
              " 'nook',\n",
              " 'and',\n",
              " 'cranny',\n",
              " 'of',\n",
              " 'the',\n",
              " 'village',\n",
              " '!',\n",
              " 'from',\n",
              " 'the',\n",
              " 'bustling',\n",
              " 'market',\n",
              " 'square',\n",
              " 'to',\n",
              " 'the',\n",
              " 'quiet',\n",
              " ',',\n",
              " 'shaded',\n",
              " 'woods',\n",
              " '.',\n",
              " 'One',\n",
              " 'day',\n",
              " ',',\n",
              " 'while',\n",
              " 'chasing',\n",
              " 'a',\n",
              " 'particularly',\n",
              " 'elusive',\n",
              " 'butterfly',\n",
              " ',',\n",
              " 'Whiskers',\n",
              " 'stumbled',\n",
              " 'upon',\n",
              " 'a',\n",
              " 'hidden',\n",
              " 'path',\n",
              " 'that',\n",
              " 'led',\n",
              " 'to',\n",
              " 'a',\n",
              " 'secret',\n",
              " 'garden',\n",
              " '.',\n",
              " 'The',\n",
              " 'garden',\n",
              " 'was',\n",
              " 'filled',\n",
              " 'with',\n",
              " 'vibrant',\n",
              " 'flowers',\n",
              " ',',\n",
              " 'towering',\n",
              " 'trees',\n",
              " ',',\n",
              " 'and',\n",
              " 'a',\n",
              " 'gentle',\n",
              " 'stream',\n",
              " 'that',\n",
              " 'whispered',\n",
              " 'secrets',\n",
              " 'of',\n",
              " 'the',\n",
              " 'past',\n",
              " '.',\n",
              " 'Whiskers',\n",
              " 'knew',\n",
              " 'that',\n",
              " 'this',\n",
              " 'magical',\n",
              " 'place',\n",
              " 'would',\n",
              " 'be',\n",
              " 'their',\n",
              " 'new',\n",
              " 'favorite',\n",
              " 'spot',\n",
              " 'for',\n",
              " 'adventures',\n",
              " 'and',\n",
              " 'daydreams',\n",
              " '.']"
            ]
          },
          "metadata": {},
          "execution_count": 10
        }
      ]
    },
    {
      "cell_type": "code",
      "source": [
        "from nltk.tokenize import wordpunct_tokenize\n",
        "wordpunct_tokenize(corpus)"
      ],
      "metadata": {
        "colab": {
          "base_uri": "https://localhost:8080/"
        },
        "id": "gx_6bq7F60Hj",
        "outputId": "40136beb-f0c7-4b19-c142-ef6e1ceaf822"
      },
      "execution_count": 11,
      "outputs": [
        {
          "output_type": "execute_result",
          "data": {
            "text/plain": [
              "['In',\n",
              " 'a',\n",
              " 'small',\n",
              " 'village',\n",
              " 'nestled',\n",
              " 'between',\n",
              " 'rolling',\n",
              " 'hills',\n",
              " 'and',\n",
              " 'a',\n",
              " 'sparkling',\n",
              " 'river',\n",
              " ',',\n",
              " 'there',\n",
              " 'lived',\n",
              " 'a',\n",
              " 'curious',\n",
              " 'cat',\n",
              " 'named',\n",
              " 'Whiskers',\n",
              " '.',\n",
              " 'Whiskers',\n",
              " 'loved',\n",
              " 'to',\n",
              " 'explore',\n",
              " 'every',\n",
              " 'nook',\n",
              " 'and',\n",
              " 'cranny',\n",
              " 'of',\n",
              " 'the',\n",
              " 'village',\n",
              " '!',\n",
              " 'from',\n",
              " 'the',\n",
              " 'bustling',\n",
              " 'market',\n",
              " 'square',\n",
              " 'to',\n",
              " 'the',\n",
              " 'quiet',\n",
              " ',',\n",
              " 'shaded',\n",
              " 'woods',\n",
              " '.',\n",
              " 'One',\n",
              " 'day',\n",
              " ',',\n",
              " 'while',\n",
              " 'chasing',\n",
              " 'a',\n",
              " 'particularly',\n",
              " 'elusive',\n",
              " 'butterfly',\n",
              " ',',\n",
              " 'Whiskers',\n",
              " 'stumbled',\n",
              " 'upon',\n",
              " 'a',\n",
              " 'hidden',\n",
              " 'path',\n",
              " 'that',\n",
              " 'led',\n",
              " 'to',\n",
              " 'a',\n",
              " 'secret',\n",
              " 'garden',\n",
              " '.',\n",
              " 'The',\n",
              " 'garden',\n",
              " 'was',\n",
              " 'filled',\n",
              " 'with',\n",
              " 'vibrant',\n",
              " 'flowers',\n",
              " ',',\n",
              " 'towering',\n",
              " 'trees',\n",
              " ',',\n",
              " 'and',\n",
              " 'a',\n",
              " 'gentle',\n",
              " 'stream',\n",
              " 'that',\n",
              " 'whispered',\n",
              " 'secrets',\n",
              " 'of',\n",
              " 'the',\n",
              " 'past',\n",
              " '.',\n",
              " 'Whiskers',\n",
              " 'knew',\n",
              " 'that',\n",
              " 'this',\n",
              " 'magical',\n",
              " 'place',\n",
              " 'would',\n",
              " 'be',\n",
              " 'their',\n",
              " 'new',\n",
              " 'favorite',\n",
              " 'spot',\n",
              " 'for',\n",
              " 'adventures',\n",
              " 'and',\n",
              " 'daydreams',\n",
              " '.']"
            ]
          },
          "metadata": {},
          "execution_count": 11
        }
      ]
    },
    {
      "cell_type": "code",
      "source": [
        "#Full stop will not be trated as a separate word except the last word\n",
        "from nltk.tokenize import TreebankWordTokenizer\n",
        "tokenizer = TreebankWordTokenizer()\n",
        "tokenizer.tokenize(corpus)"
      ],
      "metadata": {
        "colab": {
          "base_uri": "https://localhost:8080/"
        },
        "id": "jd69b8xo7Ik3",
        "outputId": "33c0b01f-f1e6-4e84-dc31-c6becfce0bbe"
      },
      "execution_count": 12,
      "outputs": [
        {
          "output_type": "execute_result",
          "data": {
            "text/plain": [
              "['In',\n",
              " 'a',\n",
              " 'small',\n",
              " 'village',\n",
              " 'nestled',\n",
              " 'between',\n",
              " 'rolling',\n",
              " 'hills',\n",
              " 'and',\n",
              " 'a',\n",
              " 'sparkling',\n",
              " 'river',\n",
              " ',',\n",
              " 'there',\n",
              " 'lived',\n",
              " 'a',\n",
              " 'curious',\n",
              " 'cat',\n",
              " 'named',\n",
              " 'Whiskers.',\n",
              " 'Whiskers',\n",
              " 'loved',\n",
              " 'to',\n",
              " 'explore',\n",
              " 'every',\n",
              " 'nook',\n",
              " 'and',\n",
              " 'cranny',\n",
              " 'of',\n",
              " 'the',\n",
              " 'village',\n",
              " '!',\n",
              " 'from',\n",
              " 'the',\n",
              " 'bustling',\n",
              " 'market',\n",
              " 'square',\n",
              " 'to',\n",
              " 'the',\n",
              " 'quiet',\n",
              " ',',\n",
              " 'shaded',\n",
              " 'woods.',\n",
              " 'One',\n",
              " 'day',\n",
              " ',',\n",
              " 'while',\n",
              " 'chasing',\n",
              " 'a',\n",
              " 'particularly',\n",
              " 'elusive',\n",
              " 'butterfly',\n",
              " ',',\n",
              " 'Whiskers',\n",
              " 'stumbled',\n",
              " 'upon',\n",
              " 'a',\n",
              " 'hidden',\n",
              " 'path',\n",
              " 'that',\n",
              " 'led',\n",
              " 'to',\n",
              " 'a',\n",
              " 'secret',\n",
              " 'garden.',\n",
              " 'The',\n",
              " 'garden',\n",
              " 'was',\n",
              " 'filled',\n",
              " 'with',\n",
              " 'vibrant',\n",
              " 'flowers',\n",
              " ',',\n",
              " 'towering',\n",
              " 'trees',\n",
              " ',',\n",
              " 'and',\n",
              " 'a',\n",
              " 'gentle',\n",
              " 'stream',\n",
              " 'that',\n",
              " 'whispered',\n",
              " 'secrets',\n",
              " 'of',\n",
              " 'the',\n",
              " 'past.',\n",
              " 'Whiskers',\n",
              " 'knew',\n",
              " 'that',\n",
              " 'this',\n",
              " 'magical',\n",
              " 'place',\n",
              " 'would',\n",
              " 'be',\n",
              " 'their',\n",
              " 'new',\n",
              " 'favorite',\n",
              " 'spot',\n",
              " 'for',\n",
              " 'adventures',\n",
              " 'and',\n",
              " 'daydreams',\n",
              " '.']"
            ]
          },
          "metadata": {},
          "execution_count": 12
        }
      ]
    },
    {
      "cell_type": "markdown",
      "source": [
        "##### Stemming is the process of reducing a word to its word stem that affixes to suffixes and prefixes or to the roots of words known as lemma."
      ],
      "metadata": {
        "id": "aLzeDtt37z93"
      }
    },
    {
      "cell_type": "code",
      "source": [
        "#eat, eating, eaten\n",
        "words = [\"eating\", \"eat\",\"eaten\",\"writing\",\"writes\",\"programming\",\"programs\",\"history\"]\n"
      ],
      "metadata": {
        "id": "F3vObU8J7VHo"
      },
      "execution_count": 13,
      "outputs": []
    },
    {
      "cell_type": "code",
      "source": [
        "#PorterStemmer\n",
        "from nltk.stem import PorterStemmer\n",
        "ps = PorterStemmer()"
      ],
      "metadata": {
        "id": "sBXyqA6z8qmm"
      },
      "execution_count": 14,
      "outputs": []
    },
    {
      "cell_type": "code",
      "source": [
        "for i in words:\n",
        "  print(i+\"---->\"+ps.stem(i))"
      ],
      "metadata": {
        "colab": {
          "base_uri": "https://localhost:8080/"
        },
        "id": "Z46Yb6fl8uVX",
        "outputId": "a828bbfb-6587-4893-f8ca-cdd311355ebb"
      },
      "execution_count": 15,
      "outputs": [
        {
          "output_type": "stream",
          "name": "stdout",
          "text": [
            "eating---->eat\n",
            "eat---->eat\n",
            "eaten---->eaten\n",
            "writing---->write\n",
            "writes---->write\n",
            "programming---->program\n",
            "programs---->program\n",
            "history---->histori\n"
          ]
        }
      ]
    },
    {
      "cell_type": "markdown",
      "source": [
        "###### For some words, meaning might change like we saw in case of \"history\"."
      ],
      "metadata": {
        "id": "6GQmAHsm9BaG"
      }
    },
    {
      "cell_type": "code",
      "source": [
        "\"congratulations\" + \"----> \" + ps.stem(\"congratulations\")"
      ],
      "metadata": {
        "colab": {
          "base_uri": "https://localhost:8080/",
          "height": 35
        },
        "id": "RwTFTkEL86fI",
        "outputId": "438c93cc-b663-437e-ad0f-801ad92f5c7c"
      },
      "execution_count": null,
      "outputs": [
        {
          "output_type": "execute_result",
          "data": {
            "text/plain": [
              "'congratulations----> congratul'"
            ],
            "application/vnd.google.colaboratory.intrinsic+json": {
              "type": "string"
            }
          },
          "metadata": {},
          "execution_count": 19
        }
      ]
    },
    {
      "cell_type": "markdown",
      "source": [
        "##### RegexpStemmer: NLTK has regexpstemmer class with the help of which we can easily implment Regular Expression Stemmer algorithms. It basically takes a single regular expression  and removes prefix or suffix that matches the expression."
      ],
      "metadata": {
        "id": "7FMtPSbd9baH"
      }
    },
    {
      "cell_type": "code",
      "source": [
        "from nltk.stem import RegexpStemmer\n",
        "rs = RegexpStemmer('ing$|s$|e$|able$', min=4)"
      ],
      "metadata": {
        "id": "zO6IDyvm9NEY"
      },
      "execution_count": 16,
      "outputs": []
    },
    {
      "cell_type": "code",
      "source": [
        "rs.stem(\"eating\")"
      ],
      "metadata": {
        "colab": {
          "base_uri": "https://localhost:8080/",
          "height": 35
        },
        "id": "EpUSgMkI-LSy",
        "outputId": "83499292-8773-45a3-c7be-6212423f95b2"
      },
      "execution_count": 17,
      "outputs": [
        {
          "output_type": "execute_result",
          "data": {
            "text/plain": [
              "'eat'"
            ],
            "application/vnd.google.colaboratory.intrinsic+json": {
              "type": "string"
            }
          },
          "metadata": {},
          "execution_count": 17
        }
      ]
    },
    {
      "cell_type": "code",
      "source": [
        "rs.stem(\"ingeating\")"
      ],
      "metadata": {
        "colab": {
          "base_uri": "https://localhost:8080/",
          "height": 35
        },
        "id": "g2WWJYgz-RNU",
        "outputId": "3454fc13-9025-4d9e-8da1-213d77e5bfb5"
      },
      "execution_count": 18,
      "outputs": [
        {
          "output_type": "execute_result",
          "data": {
            "text/plain": [
              "'ingeat'"
            ],
            "application/vnd.google.colaboratory.intrinsic+json": {
              "type": "string"
            }
          },
          "metadata": {},
          "execution_count": 18
        }
      ]
    },
    {
      "cell_type": "markdown",
      "source": [
        "#### Snowball Stemmer: better form than porter stemmer\n"
      ],
      "metadata": {
        "id": "U-ykwq-v-cNr"
      }
    },
    {
      "cell_type": "code",
      "source": [
        "from nltk.stem import SnowballStemmer"
      ],
      "metadata": {
        "id": "RGEcpvfN-VTI"
      },
      "execution_count": 19,
      "outputs": []
    },
    {
      "cell_type": "code",
      "source": [
        "snowball = SnowballStemmer(\"english\")"
      ],
      "metadata": {
        "id": "g72IYdDq-1LR"
      },
      "execution_count": 20,
      "outputs": []
    },
    {
      "cell_type": "code",
      "source": [
        "for word in words:\n",
        "  print(word+\"--->\"+snowball.stem(word))"
      ],
      "metadata": {
        "colab": {
          "base_uri": "https://localhost:8080/"
        },
        "id": "3tDGpvTw-qUz",
        "outputId": "0bf7e723-de49-4fe5-f4e3-09b533f6567c"
      },
      "execution_count": 21,
      "outputs": [
        {
          "output_type": "stream",
          "name": "stdout",
          "text": [
            "eating--->eat\n",
            "eat--->eat\n",
            "eaten--->eaten\n",
            "writing--->write\n",
            "writes--->write\n",
            "programming--->program\n",
            "programs--->program\n",
            "history--->histori\n"
          ]
        }
      ]
    },
    {
      "cell_type": "code",
      "source": [
        "#Disadvantage of Stemming: for some words, meaning is changing"
      ],
      "metadata": {
        "id": "wjYDsv9B-xpM"
      },
      "execution_count": null,
      "outputs": []
    },
    {
      "cell_type": "markdown",
      "source": [
        "### Lemmatization"
      ],
      "metadata": {
        "id": "7uvsDQQY_Sv4"
      }
    },
    {
      "cell_type": "markdown",
      "source": [
        "##### Lemmatization is a technique like stemming. The output we will get after that is called \"lemma\" wich is a root word rather than root stem. After lemmatization, we will be getting a valid word that means the same thing."
      ],
      "metadata": {
        "id": "Wfrg7Ze4_oYq"
      }
    },
    {
      "cell_type": "markdown",
      "source": [
        "##### NLTK provides WordNetLemmatizer class which is a thin wrapper around the wordnet corpus. This class uses morphy() function to the WordNet CorpusReader class to find a lemma. Let us understand it with an example:"
      ],
      "metadata": {
        "id": "kkdOf8t7ADjc"
      }
    },
    {
      "cell_type": "code",
      "source": [
        "nltk.download('wordnet')\n",
        "from nltk.stem import WordNetLemmatizer"
      ],
      "metadata": {
        "colab": {
          "base_uri": "https://localhost:8080/"
        },
        "id": "IymugGyD_UwX",
        "outputId": "be18211d-89ce-4c4a-ae2f-356d1ae7cc1c"
      },
      "execution_count": 22,
      "outputs": [
        {
          "output_type": "stream",
          "name": "stderr",
          "text": [
            "[nltk_data] Downloading package wordnet to /root/nltk_data...\n"
          ]
        }
      ]
    },
    {
      "cell_type": "code",
      "source": [
        "lemmatizer = WordNetLemmatizer()\n"
      ],
      "metadata": {
        "id": "PiTQiifq_7Yj"
      },
      "execution_count": 23,
      "outputs": []
    },
    {
      "cell_type": "code",
      "source": [
        "lemmatizer.lemmatize(\"going\")"
      ],
      "metadata": {
        "colab": {
          "base_uri": "https://localhost:8080/",
          "height": 35
        },
        "id": "r-nmOOtDAnjC",
        "outputId": "1071c641-aa13-4245-9190-7ed30d29a4ea"
      },
      "execution_count": 24,
      "outputs": [
        {
          "output_type": "execute_result",
          "data": {
            "text/plain": [
              "'going'"
            ],
            "application/vnd.google.colaboratory.intrinsic+json": {
              "type": "string"
            }
          },
          "metadata": {},
          "execution_count": 24
        }
      ]
    },
    {
      "cell_type": "code",
      "source": [
        "#POS tags: Noun(n), Verb(v), Adjective(a), Adverb(r)"
      ],
      "metadata": {
        "id": "z9qvwFXcArfp"
      },
      "execution_count": 25,
      "outputs": []
    },
    {
      "cell_type": "code",
      "source": [
        "lemmatizer.lemmatize(\"going\",pos=\"v\")"
      ],
      "metadata": {
        "colab": {
          "base_uri": "https://localhost:8080/",
          "height": 35
        },
        "id": "B8x9vGoZBGuk",
        "outputId": "d40c3a47-f4f7-4ce5-9393-8f280f750a3c"
      },
      "execution_count": 26,
      "outputs": [
        {
          "output_type": "execute_result",
          "data": {
            "text/plain": [
              "'go'"
            ],
            "application/vnd.google.colaboratory.intrinsic+json": {
              "type": "string"
            }
          },
          "metadata": {},
          "execution_count": 26
        }
      ]
    },
    {
      "cell_type": "code",
      "source": [
        "for word in words:\n",
        "  print(word+\"--->\"+lemmatizer.lemmatize(word, pos=\"v\"))"
      ],
      "metadata": {
        "colab": {
          "base_uri": "https://localhost:8080/"
        },
        "id": "zyepLBq5BKjF",
        "outputId": "9ac47b15-703b-4a5a-e41e-8db98afbbdf7"
      },
      "execution_count": 27,
      "outputs": [
        {
          "output_type": "stream",
          "name": "stdout",
          "text": [
            "eating--->eat\n",
            "eat--->eat\n",
            "eaten--->eat\n",
            "writing--->write\n",
            "writes--->write\n",
            "programming--->program\n",
            "programs--->program\n",
            "history--->history\n"
          ]
        }
      ]
    },
    {
      "cell_type": "code",
      "source": [
        "#Lemmatization takes more time than stemming because it does a comparison."
      ],
      "metadata": {
        "id": "k3kAKlM1BU8n"
      },
      "execution_count": 28,
      "outputs": []
    },
    {
      "cell_type": "code",
      "source": [
        "parapraph = \"I am a man and all that affects mankind concerns me. I am not a terrorist. I am a revolutionary who has a definite object in life. I am not guilty of the charges against me. I do not want to glorify myself, but I want to explain my ideas. We are not lunatics, as the prosecution alleges, but we are revolutionaries. I want to tell the British rulers that no power on earth can stop the march of ideas. They can kill individuals, but they cannot kill ideas. Great empires crumbled, while ideas survived.\""
      ],
      "metadata": {
        "id": "3Wg8AFqjBvUK"
      },
      "execution_count": 29,
      "outputs": []
    },
    {
      "cell_type": "code",
      "source": [
        "#stop words like I, the, have, and"
      ],
      "metadata": {
        "id": "lxP_08LMEVnq"
      },
      "execution_count": 30,
      "outputs": []
    },
    {
      "cell_type": "code",
      "source": [
        "from nltk.stem import PorterStemmer\n",
        "from nltk.corpus import stopwords"
      ],
      "metadata": {
        "id": "cYTjZh1AEiqR"
      },
      "execution_count": 31,
      "outputs": []
    },
    {
      "cell_type": "code",
      "source": [
        "nltk.download(\"stopwords\")"
      ],
      "metadata": {
        "colab": {
          "base_uri": "https://localhost:8080/"
        },
        "id": "t-jfTdt2EwtS",
        "outputId": "472a8404-7ca7-4a34-9f8f-badeea5cf24b"
      },
      "execution_count": 32,
      "outputs": [
        {
          "output_type": "stream",
          "name": "stderr",
          "text": [
            "[nltk_data] Downloading package stopwords to /root/nltk_data...\n",
            "[nltk_data]   Unzipping corpora/stopwords.zip.\n"
          ]
        },
        {
          "output_type": "execute_result",
          "data": {
            "text/plain": [
              "True"
            ]
          },
          "metadata": {},
          "execution_count": 32
        }
      ]
    },
    {
      "cell_type": "code",
      "source": [
        "stopwords.words(\"italian\")"
      ],
      "metadata": {
        "colab": {
          "base_uri": "https://localhost:8080/"
        },
        "id": "j0SUaQqrEq2b",
        "outputId": "46f520a3-6afd-45e5-bef3-6e828fba047d"
      },
      "execution_count": 33,
      "outputs": [
        {
          "output_type": "execute_result",
          "data": {
            "text/plain": [
              "['ad',\n",
              " 'al',\n",
              " 'allo',\n",
              " 'ai',\n",
              " 'agli',\n",
              " 'all',\n",
              " 'agl',\n",
              " 'alla',\n",
              " 'alle',\n",
              " 'con',\n",
              " 'col',\n",
              " 'coi',\n",
              " 'da',\n",
              " 'dal',\n",
              " 'dallo',\n",
              " 'dai',\n",
              " 'dagli',\n",
              " 'dall',\n",
              " 'dagl',\n",
              " 'dalla',\n",
              " 'dalle',\n",
              " 'di',\n",
              " 'del',\n",
              " 'dello',\n",
              " 'dei',\n",
              " 'degli',\n",
              " 'dell',\n",
              " 'degl',\n",
              " 'della',\n",
              " 'delle',\n",
              " 'in',\n",
              " 'nel',\n",
              " 'nello',\n",
              " 'nei',\n",
              " 'negli',\n",
              " 'nell',\n",
              " 'negl',\n",
              " 'nella',\n",
              " 'nelle',\n",
              " 'su',\n",
              " 'sul',\n",
              " 'sullo',\n",
              " 'sui',\n",
              " 'sugli',\n",
              " 'sull',\n",
              " 'sugl',\n",
              " 'sulla',\n",
              " 'sulle',\n",
              " 'per',\n",
              " 'tra',\n",
              " 'contro',\n",
              " 'io',\n",
              " 'tu',\n",
              " 'lui',\n",
              " 'lei',\n",
              " 'noi',\n",
              " 'voi',\n",
              " 'loro',\n",
              " 'mio',\n",
              " 'mia',\n",
              " 'miei',\n",
              " 'mie',\n",
              " 'tuo',\n",
              " 'tua',\n",
              " 'tuoi',\n",
              " 'tue',\n",
              " 'suo',\n",
              " 'sua',\n",
              " 'suoi',\n",
              " 'sue',\n",
              " 'nostro',\n",
              " 'nostra',\n",
              " 'nostri',\n",
              " 'nostre',\n",
              " 'vostro',\n",
              " 'vostra',\n",
              " 'vostri',\n",
              " 'vostre',\n",
              " 'mi',\n",
              " 'ti',\n",
              " 'ci',\n",
              " 'vi',\n",
              " 'lo',\n",
              " 'la',\n",
              " 'li',\n",
              " 'le',\n",
              " 'gli',\n",
              " 'ne',\n",
              " 'il',\n",
              " 'un',\n",
              " 'uno',\n",
              " 'una',\n",
              " 'ma',\n",
              " 'ed',\n",
              " 'se',\n",
              " 'perché',\n",
              " 'anche',\n",
              " 'come',\n",
              " 'dov',\n",
              " 'dove',\n",
              " 'che',\n",
              " 'chi',\n",
              " 'cui',\n",
              " 'non',\n",
              " 'più',\n",
              " 'quale',\n",
              " 'quanto',\n",
              " 'quanti',\n",
              " 'quanta',\n",
              " 'quante',\n",
              " 'quello',\n",
              " 'quelli',\n",
              " 'quella',\n",
              " 'quelle',\n",
              " 'questo',\n",
              " 'questi',\n",
              " 'questa',\n",
              " 'queste',\n",
              " 'si',\n",
              " 'tutto',\n",
              " 'tutti',\n",
              " 'a',\n",
              " 'c',\n",
              " 'e',\n",
              " 'i',\n",
              " 'l',\n",
              " 'o',\n",
              " 'ho',\n",
              " 'hai',\n",
              " 'ha',\n",
              " 'abbiamo',\n",
              " 'avete',\n",
              " 'hanno',\n",
              " 'abbia',\n",
              " 'abbiate',\n",
              " 'abbiano',\n",
              " 'avrò',\n",
              " 'avrai',\n",
              " 'avrà',\n",
              " 'avremo',\n",
              " 'avrete',\n",
              " 'avranno',\n",
              " 'avrei',\n",
              " 'avresti',\n",
              " 'avrebbe',\n",
              " 'avremmo',\n",
              " 'avreste',\n",
              " 'avrebbero',\n",
              " 'avevo',\n",
              " 'avevi',\n",
              " 'aveva',\n",
              " 'avevamo',\n",
              " 'avevate',\n",
              " 'avevano',\n",
              " 'ebbi',\n",
              " 'avesti',\n",
              " 'ebbe',\n",
              " 'avemmo',\n",
              " 'aveste',\n",
              " 'ebbero',\n",
              " 'avessi',\n",
              " 'avesse',\n",
              " 'avessimo',\n",
              " 'avessero',\n",
              " 'avendo',\n",
              " 'avuto',\n",
              " 'avuta',\n",
              " 'avuti',\n",
              " 'avute',\n",
              " 'sono',\n",
              " 'sei',\n",
              " 'è',\n",
              " 'siamo',\n",
              " 'siete',\n",
              " 'sia',\n",
              " 'siate',\n",
              " 'siano',\n",
              " 'sarò',\n",
              " 'sarai',\n",
              " 'sarà',\n",
              " 'saremo',\n",
              " 'sarete',\n",
              " 'saranno',\n",
              " 'sarei',\n",
              " 'saresti',\n",
              " 'sarebbe',\n",
              " 'saremmo',\n",
              " 'sareste',\n",
              " 'sarebbero',\n",
              " 'ero',\n",
              " 'eri',\n",
              " 'era',\n",
              " 'eravamo',\n",
              " 'eravate',\n",
              " 'erano',\n",
              " 'fui',\n",
              " 'fosti',\n",
              " 'fu',\n",
              " 'fummo',\n",
              " 'foste',\n",
              " 'furono',\n",
              " 'fossi',\n",
              " 'fosse',\n",
              " 'fossimo',\n",
              " 'fossero',\n",
              " 'essendo',\n",
              " 'faccio',\n",
              " 'fai',\n",
              " 'facciamo',\n",
              " 'fanno',\n",
              " 'faccia',\n",
              " 'facciate',\n",
              " 'facciano',\n",
              " 'farò',\n",
              " 'farai',\n",
              " 'farà',\n",
              " 'faremo',\n",
              " 'farete',\n",
              " 'faranno',\n",
              " 'farei',\n",
              " 'faresti',\n",
              " 'farebbe',\n",
              " 'faremmo',\n",
              " 'fareste',\n",
              " 'farebbero',\n",
              " 'facevo',\n",
              " 'facevi',\n",
              " 'faceva',\n",
              " 'facevamo',\n",
              " 'facevate',\n",
              " 'facevano',\n",
              " 'feci',\n",
              " 'facesti',\n",
              " 'fece',\n",
              " 'facemmo',\n",
              " 'faceste',\n",
              " 'fecero',\n",
              " 'facessi',\n",
              " 'facesse',\n",
              " 'facessimo',\n",
              " 'facessero',\n",
              " 'facendo',\n",
              " 'sto',\n",
              " 'stai',\n",
              " 'sta',\n",
              " 'stiamo',\n",
              " 'stanno',\n",
              " 'stia',\n",
              " 'stiate',\n",
              " 'stiano',\n",
              " 'starò',\n",
              " 'starai',\n",
              " 'starà',\n",
              " 'staremo',\n",
              " 'starete',\n",
              " 'staranno',\n",
              " 'starei',\n",
              " 'staresti',\n",
              " 'starebbe',\n",
              " 'staremmo',\n",
              " 'stareste',\n",
              " 'starebbero',\n",
              " 'stavo',\n",
              " 'stavi',\n",
              " 'stava',\n",
              " 'stavamo',\n",
              " 'stavate',\n",
              " 'stavano',\n",
              " 'stetti',\n",
              " 'stesti',\n",
              " 'stette',\n",
              " 'stemmo',\n",
              " 'steste',\n",
              " 'stettero',\n",
              " 'stessi',\n",
              " 'stesse',\n",
              " 'stessimo',\n",
              " 'stessero',\n",
              " 'stando']"
            ]
          },
          "metadata": {},
          "execution_count": 33
        }
      ]
    },
    {
      "cell_type": "code",
      "source": [
        "#You can create your list as well"
      ],
      "metadata": {
        "id": "V9KE8b3WFCw3"
      },
      "execution_count": null,
      "outputs": []
    },
    {
      "cell_type": "code",
      "source": [
        "stopwords.words(\"arabic\")"
      ],
      "metadata": {
        "colab": {
          "base_uri": "https://localhost:8080/"
        },
        "id": "6G2PtYOKFG_p",
        "outputId": "b90c2b70-823b-4571-d932-a19dbfd105a0"
      },
      "execution_count": null,
      "outputs": [
        {
          "output_type": "execute_result",
          "data": {
            "text/plain": [
              "['إذ',\n",
              " 'إذا',\n",
              " 'إذما',\n",
              " 'إذن',\n",
              " 'أف',\n",
              " 'أقل',\n",
              " 'أكثر',\n",
              " 'ألا',\n",
              " 'إلا',\n",
              " 'التي',\n",
              " 'الذي',\n",
              " 'الذين',\n",
              " 'اللاتي',\n",
              " 'اللائي',\n",
              " 'اللتان',\n",
              " 'اللتيا',\n",
              " 'اللتين',\n",
              " 'اللذان',\n",
              " 'اللذين',\n",
              " 'اللواتي',\n",
              " 'إلى',\n",
              " 'إليك',\n",
              " 'إليكم',\n",
              " 'إليكما',\n",
              " 'إليكن',\n",
              " 'أم',\n",
              " 'أما',\n",
              " 'أما',\n",
              " 'إما',\n",
              " 'أن',\n",
              " 'إن',\n",
              " 'إنا',\n",
              " 'أنا',\n",
              " 'أنت',\n",
              " 'أنتم',\n",
              " 'أنتما',\n",
              " 'أنتن',\n",
              " 'إنما',\n",
              " 'إنه',\n",
              " 'أنى',\n",
              " 'أنى',\n",
              " 'آه',\n",
              " 'آها',\n",
              " 'أو',\n",
              " 'أولاء',\n",
              " 'أولئك',\n",
              " 'أوه',\n",
              " 'آي',\n",
              " 'أي',\n",
              " 'أيها',\n",
              " 'إي',\n",
              " 'أين',\n",
              " 'أين',\n",
              " 'أينما',\n",
              " 'إيه',\n",
              " 'بخ',\n",
              " 'بس',\n",
              " 'بعد',\n",
              " 'بعض',\n",
              " 'بك',\n",
              " 'بكم',\n",
              " 'بكم',\n",
              " 'بكما',\n",
              " 'بكن',\n",
              " 'بل',\n",
              " 'بلى',\n",
              " 'بما',\n",
              " 'بماذا',\n",
              " 'بمن',\n",
              " 'بنا',\n",
              " 'به',\n",
              " 'بها',\n",
              " 'بهم',\n",
              " 'بهما',\n",
              " 'بهن',\n",
              " 'بي',\n",
              " 'بين',\n",
              " 'بيد',\n",
              " 'تلك',\n",
              " 'تلكم',\n",
              " 'تلكما',\n",
              " 'ته',\n",
              " 'تي',\n",
              " 'تين',\n",
              " 'تينك',\n",
              " 'ثم',\n",
              " 'ثمة',\n",
              " 'حاشا',\n",
              " 'حبذا',\n",
              " 'حتى',\n",
              " 'حيث',\n",
              " 'حيثما',\n",
              " 'حين',\n",
              " 'خلا',\n",
              " 'دون',\n",
              " 'ذا',\n",
              " 'ذات',\n",
              " 'ذاك',\n",
              " 'ذان',\n",
              " 'ذانك',\n",
              " 'ذلك',\n",
              " 'ذلكم',\n",
              " 'ذلكما',\n",
              " 'ذلكن',\n",
              " 'ذه',\n",
              " 'ذو',\n",
              " 'ذوا',\n",
              " 'ذواتا',\n",
              " 'ذواتي',\n",
              " 'ذي',\n",
              " 'ذين',\n",
              " 'ذينك',\n",
              " 'ريث',\n",
              " 'سوف',\n",
              " 'سوى',\n",
              " 'شتان',\n",
              " 'عدا',\n",
              " 'عسى',\n",
              " 'عل',\n",
              " 'على',\n",
              " 'عليك',\n",
              " 'عليه',\n",
              " 'عما',\n",
              " 'عن',\n",
              " 'عند',\n",
              " 'غير',\n",
              " 'فإذا',\n",
              " 'فإن',\n",
              " 'فلا',\n",
              " 'فمن',\n",
              " 'في',\n",
              " 'فيم',\n",
              " 'فيما',\n",
              " 'فيه',\n",
              " 'فيها',\n",
              " 'قد',\n",
              " 'كأن',\n",
              " 'كأنما',\n",
              " 'كأي',\n",
              " 'كأين',\n",
              " 'كذا',\n",
              " 'كذلك',\n",
              " 'كل',\n",
              " 'كلا',\n",
              " 'كلاهما',\n",
              " 'كلتا',\n",
              " 'كلما',\n",
              " 'كليكما',\n",
              " 'كليهما',\n",
              " 'كم',\n",
              " 'كم',\n",
              " 'كما',\n",
              " 'كي',\n",
              " 'كيت',\n",
              " 'كيف',\n",
              " 'كيفما',\n",
              " 'لا',\n",
              " 'لاسيما',\n",
              " 'لدى',\n",
              " 'لست',\n",
              " 'لستم',\n",
              " 'لستما',\n",
              " 'لستن',\n",
              " 'لسن',\n",
              " 'لسنا',\n",
              " 'لعل',\n",
              " 'لك',\n",
              " 'لكم',\n",
              " 'لكما',\n",
              " 'لكن',\n",
              " 'لكنما',\n",
              " 'لكي',\n",
              " 'لكيلا',\n",
              " 'لم',\n",
              " 'لما',\n",
              " 'لن',\n",
              " 'لنا',\n",
              " 'له',\n",
              " 'لها',\n",
              " 'لهم',\n",
              " 'لهما',\n",
              " 'لهن',\n",
              " 'لو',\n",
              " 'لولا',\n",
              " 'لوما',\n",
              " 'لي',\n",
              " 'لئن',\n",
              " 'ليت',\n",
              " 'ليس',\n",
              " 'ليسا',\n",
              " 'ليست',\n",
              " 'ليستا',\n",
              " 'ليسوا',\n",
              " 'ما',\n",
              " 'ماذا',\n",
              " 'متى',\n",
              " 'مذ',\n",
              " 'مع',\n",
              " 'مما',\n",
              " 'ممن',\n",
              " 'من',\n",
              " 'منه',\n",
              " 'منها',\n",
              " 'منذ',\n",
              " 'مه',\n",
              " 'مهما',\n",
              " 'نحن',\n",
              " 'نحو',\n",
              " 'نعم',\n",
              " 'ها',\n",
              " 'هاتان',\n",
              " 'هاته',\n",
              " 'هاتي',\n",
              " 'هاتين',\n",
              " 'هاك',\n",
              " 'هاهنا',\n",
              " 'هذا',\n",
              " 'هذان',\n",
              " 'هذه',\n",
              " 'هذي',\n",
              " 'هذين',\n",
              " 'هكذا',\n",
              " 'هل',\n",
              " 'هلا',\n",
              " 'هم',\n",
              " 'هما',\n",
              " 'هن',\n",
              " 'هنا',\n",
              " 'هناك',\n",
              " 'هنالك',\n",
              " 'هو',\n",
              " 'هؤلاء',\n",
              " 'هي',\n",
              " 'هيا',\n",
              " 'هيت',\n",
              " 'هيهات',\n",
              " 'والذي',\n",
              " 'والذين',\n",
              " 'وإذ',\n",
              " 'وإذا',\n",
              " 'وإن',\n",
              " 'ولا',\n",
              " 'ولكن',\n",
              " 'ولو',\n",
              " 'وما',\n",
              " 'ومن',\n",
              " 'وهو',\n",
              " 'يا',\n",
              " 'أبٌ',\n",
              " 'أخٌ',\n",
              " 'حمٌ',\n",
              " 'فو',\n",
              " 'أنتِ',\n",
              " 'يناير',\n",
              " 'فبراير',\n",
              " 'مارس',\n",
              " 'أبريل',\n",
              " 'مايو',\n",
              " 'يونيو',\n",
              " 'يوليو',\n",
              " 'أغسطس',\n",
              " 'سبتمبر',\n",
              " 'أكتوبر',\n",
              " 'نوفمبر',\n",
              " 'ديسمبر',\n",
              " 'جانفي',\n",
              " 'فيفري',\n",
              " 'مارس',\n",
              " 'أفريل',\n",
              " 'ماي',\n",
              " 'جوان',\n",
              " 'جويلية',\n",
              " 'أوت',\n",
              " 'كانون',\n",
              " 'شباط',\n",
              " 'آذار',\n",
              " 'نيسان',\n",
              " 'أيار',\n",
              " 'حزيران',\n",
              " 'تموز',\n",
              " 'آب',\n",
              " 'أيلول',\n",
              " 'تشرين',\n",
              " 'دولار',\n",
              " 'دينار',\n",
              " 'ريال',\n",
              " 'درهم',\n",
              " 'ليرة',\n",
              " 'جنيه',\n",
              " 'قرش',\n",
              " 'مليم',\n",
              " 'فلس',\n",
              " 'هللة',\n",
              " 'سنتيم',\n",
              " 'يورو',\n",
              " 'ين',\n",
              " 'يوان',\n",
              " 'شيكل',\n",
              " 'واحد',\n",
              " 'اثنان',\n",
              " 'ثلاثة',\n",
              " 'أربعة',\n",
              " 'خمسة',\n",
              " 'ستة',\n",
              " 'سبعة',\n",
              " 'ثمانية',\n",
              " 'تسعة',\n",
              " 'عشرة',\n",
              " 'أحد',\n",
              " 'اثنا',\n",
              " 'اثني',\n",
              " 'إحدى',\n",
              " 'ثلاث',\n",
              " 'أربع',\n",
              " 'خمس',\n",
              " 'ست',\n",
              " 'سبع',\n",
              " 'ثماني',\n",
              " 'تسع',\n",
              " 'عشر',\n",
              " 'ثمان',\n",
              " 'سبت',\n",
              " 'أحد',\n",
              " 'اثنين',\n",
              " 'ثلاثاء',\n",
              " 'أربعاء',\n",
              " 'خميس',\n",
              " 'جمعة',\n",
              " 'أول',\n",
              " 'ثان',\n",
              " 'ثاني',\n",
              " 'ثالث',\n",
              " 'رابع',\n",
              " 'خامس',\n",
              " 'سادس',\n",
              " 'سابع',\n",
              " 'ثامن',\n",
              " 'تاسع',\n",
              " 'عاشر',\n",
              " 'حادي',\n",
              " 'أ',\n",
              " 'ب',\n",
              " 'ت',\n",
              " 'ث',\n",
              " 'ج',\n",
              " 'ح',\n",
              " 'خ',\n",
              " 'د',\n",
              " 'ذ',\n",
              " 'ر',\n",
              " 'ز',\n",
              " 'س',\n",
              " 'ش',\n",
              " 'ص',\n",
              " 'ض',\n",
              " 'ط',\n",
              " 'ظ',\n",
              " 'ع',\n",
              " 'غ',\n",
              " 'ف',\n",
              " 'ق',\n",
              " 'ك',\n",
              " 'ل',\n",
              " 'م',\n",
              " 'ن',\n",
              " 'ه',\n",
              " 'و',\n",
              " 'ي',\n",
              " 'ء',\n",
              " 'ى',\n",
              " 'آ',\n",
              " 'ؤ',\n",
              " 'ئ',\n",
              " 'أ',\n",
              " 'ة',\n",
              " 'ألف',\n",
              " 'باء',\n",
              " 'تاء',\n",
              " 'ثاء',\n",
              " 'جيم',\n",
              " 'حاء',\n",
              " 'خاء',\n",
              " 'دال',\n",
              " 'ذال',\n",
              " 'راء',\n",
              " 'زاي',\n",
              " 'سين',\n",
              " 'شين',\n",
              " 'صاد',\n",
              " 'ضاد',\n",
              " 'طاء',\n",
              " 'ظاء',\n",
              " 'عين',\n",
              " 'غين',\n",
              " 'فاء',\n",
              " 'قاف',\n",
              " 'كاف',\n",
              " 'لام',\n",
              " 'ميم',\n",
              " 'نون',\n",
              " 'هاء',\n",
              " 'واو',\n",
              " 'ياء',\n",
              " 'همزة',\n",
              " 'ي',\n",
              " 'نا',\n",
              " 'ك',\n",
              " 'كن',\n",
              " 'ه',\n",
              " 'إياه',\n",
              " 'إياها',\n",
              " 'إياهما',\n",
              " 'إياهم',\n",
              " 'إياهن',\n",
              " 'إياك',\n",
              " 'إياكما',\n",
              " 'إياكم',\n",
              " 'إياك',\n",
              " 'إياكن',\n",
              " 'إياي',\n",
              " 'إيانا',\n",
              " 'أولالك',\n",
              " 'تانِ',\n",
              " 'تانِك',\n",
              " 'تِه',\n",
              " 'تِي',\n",
              " 'تَيْنِ',\n",
              " 'ثمّ',\n",
              " 'ثمّة',\n",
              " 'ذانِ',\n",
              " 'ذِه',\n",
              " 'ذِي',\n",
              " 'ذَيْنِ',\n",
              " 'هَؤلاء',\n",
              " 'هَاتانِ',\n",
              " 'هَاتِه',\n",
              " 'هَاتِي',\n",
              " 'هَاتَيْنِ',\n",
              " 'هَذا',\n",
              " 'هَذانِ',\n",
              " 'هَذِه',\n",
              " 'هَذِي',\n",
              " 'هَذَيْنِ',\n",
              " 'الألى',\n",
              " 'الألاء',\n",
              " 'أل',\n",
              " 'أنّى',\n",
              " 'أيّ',\n",
              " 'ّأيّان',\n",
              " 'أنّى',\n",
              " 'أيّ',\n",
              " 'ّأيّان',\n",
              " 'ذيت',\n",
              " 'كأيّ',\n",
              " 'كأيّن',\n",
              " 'بضع',\n",
              " 'فلان',\n",
              " 'وا',\n",
              " 'آمينَ',\n",
              " 'آهِ',\n",
              " 'آهٍ',\n",
              " 'آهاً',\n",
              " 'أُفٍّ',\n",
              " 'أُفٍّ',\n",
              " 'أفٍّ',\n",
              " 'أمامك',\n",
              " 'أمامكَ',\n",
              " 'أوّهْ',\n",
              " 'إلَيْكَ',\n",
              " 'إلَيْكَ',\n",
              " 'إليكَ',\n",
              " 'إليكنّ',\n",
              " 'إيهٍ',\n",
              " 'بخٍ',\n",
              " 'بسّ',\n",
              " 'بَسْ',\n",
              " 'بطآن',\n",
              " 'بَلْهَ',\n",
              " 'حاي',\n",
              " 'حَذارِ',\n",
              " 'حيَّ',\n",
              " 'حيَّ',\n",
              " 'دونك',\n",
              " 'رويدك',\n",
              " 'سرعان',\n",
              " 'شتانَ',\n",
              " 'شَتَّانَ',\n",
              " 'صهْ',\n",
              " 'صهٍ',\n",
              " 'طاق',\n",
              " 'طَق',\n",
              " 'عَدَسْ',\n",
              " 'كِخ',\n",
              " 'مكانَك',\n",
              " 'مكانَك',\n",
              " 'مكانَك',\n",
              " 'مكانكم',\n",
              " 'مكانكما',\n",
              " 'مكانكنّ',\n",
              " 'نَخْ',\n",
              " 'هاكَ',\n",
              " 'هَجْ',\n",
              " 'هلم',\n",
              " 'هيّا',\n",
              " 'هَيْهات',\n",
              " 'وا',\n",
              " 'واهاً',\n",
              " 'وراءَك',\n",
              " 'وُشْكَانَ',\n",
              " 'وَيْ',\n",
              " 'يفعلان',\n",
              " 'تفعلان',\n",
              " 'يفعلون',\n",
              " 'تفعلون',\n",
              " 'تفعلين',\n",
              " 'اتخذ',\n",
              " 'ألفى',\n",
              " 'تخذ',\n",
              " 'ترك',\n",
              " 'تعلَّم',\n",
              " 'جعل',\n",
              " 'حجا',\n",
              " 'حبيب',\n",
              " 'خال',\n",
              " 'حسب',\n",
              " 'خال',\n",
              " 'درى',\n",
              " 'رأى',\n",
              " 'زعم',\n",
              " 'صبر',\n",
              " 'ظنَّ',\n",
              " 'عدَّ',\n",
              " 'علم',\n",
              " 'غادر',\n",
              " 'ذهب',\n",
              " 'وجد',\n",
              " 'ورد',\n",
              " 'وهب',\n",
              " 'أسكن',\n",
              " 'أطعم',\n",
              " 'أعطى',\n",
              " 'رزق',\n",
              " 'زود',\n",
              " 'سقى',\n",
              " 'كسا',\n",
              " 'أخبر',\n",
              " 'أرى',\n",
              " 'أعلم',\n",
              " 'أنبأ',\n",
              " 'حدَث',\n",
              " 'خبَّر',\n",
              " 'نبَّا',\n",
              " 'أفعل به',\n",
              " 'ما أفعله',\n",
              " 'بئس',\n",
              " 'ساء',\n",
              " 'طالما',\n",
              " 'قلما',\n",
              " 'لات',\n",
              " 'لكنَّ',\n",
              " 'ءَ',\n",
              " 'أجل',\n",
              " 'إذاً',\n",
              " 'أمّا',\n",
              " 'إمّا',\n",
              " 'إنَّ',\n",
              " 'أنًّ',\n",
              " 'أى',\n",
              " 'إى',\n",
              " 'أيا',\n",
              " 'ب',\n",
              " 'ثمَّ',\n",
              " 'جلل',\n",
              " 'جير',\n",
              " 'رُبَّ',\n",
              " 'س',\n",
              " 'علًّ',\n",
              " 'ف',\n",
              " 'كأنّ',\n",
              " 'كلَّا',\n",
              " 'كى',\n",
              " 'ل',\n",
              " 'لات',\n",
              " 'لعلَّ',\n",
              " 'لكنَّ',\n",
              " 'لكنَّ',\n",
              " 'م',\n",
              " 'نَّ',\n",
              " 'هلّا',\n",
              " 'وا',\n",
              " 'أل',\n",
              " 'إلّا',\n",
              " 'ت',\n",
              " 'ك',\n",
              " 'لمّا',\n",
              " 'ن',\n",
              " 'ه',\n",
              " 'و',\n",
              " 'ا',\n",
              " 'ي',\n",
              " 'تجاه',\n",
              " 'تلقاء',\n",
              " 'جميع',\n",
              " 'حسب',\n",
              " 'سبحان',\n",
              " 'شبه',\n",
              " 'لعمر',\n",
              " 'مثل',\n",
              " 'معاذ',\n",
              " 'أبو',\n",
              " 'أخو',\n",
              " 'حمو',\n",
              " 'فو',\n",
              " 'مئة',\n",
              " 'مئتان',\n",
              " 'ثلاثمئة',\n",
              " 'أربعمئة',\n",
              " 'خمسمئة',\n",
              " 'ستمئة',\n",
              " 'سبعمئة',\n",
              " 'ثمنمئة',\n",
              " 'تسعمئة',\n",
              " 'مائة',\n",
              " 'ثلاثمائة',\n",
              " 'أربعمائة',\n",
              " 'خمسمائة',\n",
              " 'ستمائة',\n",
              " 'سبعمائة',\n",
              " 'ثمانمئة',\n",
              " 'تسعمائة',\n",
              " 'عشرون',\n",
              " 'ثلاثون',\n",
              " 'اربعون',\n",
              " 'خمسون',\n",
              " 'ستون',\n",
              " 'سبعون',\n",
              " 'ثمانون',\n",
              " 'تسعون',\n",
              " 'عشرين',\n",
              " 'ثلاثين',\n",
              " 'اربعين',\n",
              " 'خمسين',\n",
              " 'ستين',\n",
              " 'سبعين',\n",
              " 'ثمانين',\n",
              " 'تسعين',\n",
              " 'بضع',\n",
              " 'نيف',\n",
              " 'أجمع',\n",
              " 'جميع',\n",
              " 'عامة',\n",
              " 'عين',\n",
              " 'نفس',\n",
              " 'لا سيما',\n",
              " 'أصلا',\n",
              " 'أهلا',\n",
              " 'أيضا',\n",
              " 'بؤسا',\n",
              " 'بعدا',\n",
              " 'بغتة',\n",
              " 'تعسا',\n",
              " 'حقا',\n",
              " 'حمدا',\n",
              " 'خلافا',\n",
              " 'خاصة',\n",
              " 'دواليك',\n",
              " 'سحقا',\n",
              " 'سرا',\n",
              " 'سمعا',\n",
              " 'صبرا',\n",
              " 'صدقا',\n",
              " 'صراحة',\n",
              " 'طرا',\n",
              " 'عجبا',\n",
              " 'عيانا',\n",
              " 'غالبا',\n",
              " 'فرادى',\n",
              " 'فضلا',\n",
              " 'قاطبة',\n",
              " 'كثيرا',\n",
              " 'لبيك',\n",
              " 'معاذ',\n",
              " 'أبدا',\n",
              " 'إزاء',\n",
              " 'أصلا',\n",
              " 'الآن',\n",
              " 'أمد',\n",
              " 'أمس',\n",
              " 'آنفا',\n",
              " 'آناء',\n",
              " 'أنّى',\n",
              " 'أول',\n",
              " 'أيّان',\n",
              " 'تارة',\n",
              " 'ثمّ',\n",
              " 'ثمّة',\n",
              " 'حقا',\n",
              " 'صباح',\n",
              " 'مساء',\n",
              " 'ضحوة',\n",
              " 'عوض',\n",
              " 'غدا',\n",
              " 'غداة',\n",
              " 'قطّ',\n",
              " 'كلّما',\n",
              " 'لدن',\n",
              " 'لمّا',\n",
              " 'مرّة',\n",
              " 'قبل',\n",
              " 'خلف',\n",
              " 'أمام',\n",
              " 'فوق',\n",
              " 'تحت',\n",
              " 'يمين',\n",
              " 'شمال',\n",
              " 'ارتدّ',\n",
              " 'استحال',\n",
              " 'أصبح',\n",
              " 'أضحى',\n",
              " 'آض',\n",
              " 'أمسى',\n",
              " 'انقلب',\n",
              " 'بات',\n",
              " 'تبدّل',\n",
              " 'تحوّل',\n",
              " 'حار',\n",
              " 'رجع',\n",
              " 'راح',\n",
              " 'صار',\n",
              " 'ظلّ',\n",
              " 'عاد',\n",
              " 'غدا',\n",
              " 'كان',\n",
              " 'ما انفك',\n",
              " 'ما برح',\n",
              " 'مادام',\n",
              " 'مازال',\n",
              " 'مافتئ',\n",
              " 'ابتدأ',\n",
              " 'أخذ',\n",
              " 'اخلولق',\n",
              " 'أقبل',\n",
              " 'انبرى',\n",
              " 'أنشأ',\n",
              " 'أوشك',\n",
              " 'جعل',\n",
              " 'حرى',\n",
              " 'شرع',\n",
              " 'طفق',\n",
              " 'علق',\n",
              " 'قام',\n",
              " 'كرب',\n",
              " 'كاد',\n",
              " 'هبّ']"
            ]
          },
          "metadata": {},
          "execution_count": 55
        }
      ]
    },
    {
      "cell_type": "code",
      "source": [
        "stemmer=PorterStemmer()"
      ],
      "metadata": {
        "id": "tH0dGNw_FMsR"
      },
      "execution_count": 34,
      "outputs": []
    },
    {
      "cell_type": "code",
      "source": [
        "sentences = nltk.sent_tokenize(parapraph)"
      ],
      "metadata": {
        "id": "OlEKM94FFUvb"
      },
      "execution_count": 35,
      "outputs": []
    },
    {
      "cell_type": "code",
      "source": [
        "#Apply stopwords and filter and then apply stemming\n",
        "\n",
        "for i in range(len(sentences)):\n",
        "  words = nltk.word_tokenize(sentences[i])\n",
        "  words = [stemmer.stem(word) for word in words if word not in set(stopwords.words(\"english\"))]\n",
        "  sentences[i] = ' '.join(words) #converting all list of words into sentences"
      ],
      "metadata": {
        "id": "n_Kl_hb5FYa9"
      },
      "execution_count": null,
      "outputs": []
    },
    {
      "cell_type": "code",
      "source": [
        "sentences"
      ],
      "metadata": {
        "colab": {
          "base_uri": "https://localhost:8080/"
        },
        "id": "n2JqwBWCGO5e",
        "outputId": "753c8d93-2c96-44ec-e008-4495a9ab112f"
      },
      "execution_count": null,
      "outputs": [
        {
          "output_type": "execute_result",
          "data": {
            "text/plain": [
              "['i man affect mankind concern .',\n",
              " 'i terrorist .',\n",
              " 'i revolutionari definit object life .',\n",
              " 'i guilti charg .',\n",
              " 'i want glorifi , i want explain idea .',\n",
              " 'we lunat , prosecut alleg , revolutionari .',\n",
              " 'i want tell british ruler power earth stop march idea .',\n",
              " 'they kill individu , kill idea .',\n",
              " 'great empir crumbl , idea surviv .']"
            ]
          },
          "metadata": {},
          "execution_count": 68
        }
      ]
    },
    {
      "cell_type": "code",
      "source": [
        "#Apply stopwords and filter and then apply stemming\n",
        "from nltk.stem import SnowballStemmer\n",
        "stemmer = SnowballStemmer(\"english\")\n",
        "for i in range(len(sentences)):\n",
        "  words = nltk.word_tokenize(sentences[i])\n",
        "  words = [stemmer.stem(word) for word in words if word not in set(stopwords.words(\"english\"))]\n",
        "  sentences[i] = ' '.join(words) #converting all list of words into sentences"
      ],
      "metadata": {
        "id": "uTR6yN1PGQ5m"
      },
      "execution_count": null,
      "outputs": []
    },
    {
      "cell_type": "code",
      "source": [
        "sentences"
      ],
      "metadata": {
        "colab": {
          "base_uri": "https://localhost:8080/"
        },
        "id": "Imzlv6iqGihv",
        "outputId": "d41bb03c-f881-4d17-9dd0-205dbeac9bd9"
      },
      "execution_count": null,
      "outputs": [
        {
          "output_type": "execute_result",
          "data": {
            "text/plain": [
              "['i man affect mankind concern .',\n",
              " 'i terrorist .',\n",
              " 'i revolutionari definit object life .',\n",
              " 'i guilti charg .',\n",
              " 'i want glorifi , i want explain idea .',\n",
              " 'we lunat , prosecut alleg , revolutionari .',\n",
              " 'i want tell british ruler power earth stop march idea .',\n",
              " 'they kill individu , kill idea .',\n",
              " 'great empir crumbl , idea surviv .']"
            ]
          },
          "metadata": {},
          "execution_count": 72
        }
      ]
    },
    {
      "cell_type": "code",
      "source": [
        "#Apply stopwords and filter and then apply stemming\n",
        "from nltk.stem import WordNetLemmatizer\n",
        "lemmatizer = WordNetLemmatizer()\n",
        "for i in range(len(sentences)):\n",
        "  words = nltk.word_tokenize(sentences[i])\n",
        "  words = [lemmatizer.lemmatize(word,pos=\"v\") for word in words if word not in set(stopwords.words(\"english\"))]\n",
        "  sentences[i] = ' '.join(words) #converting all list of words into sentences"
      ],
      "metadata": {
        "id": "0R0vgD46GjcN"
      },
      "execution_count": null,
      "outputs": []
    },
    {
      "cell_type": "code",
      "source": [
        "sentences"
      ],
      "metadata": {
        "colab": {
          "base_uri": "https://localhost:8080/"
        },
        "id": "uRwjxUf1HyIV",
        "outputId": "a9c23195-1df7-458e-c1f5-d2483baf0bfb"
      },
      "execution_count": null,
      "outputs": [
        {
          "output_type": "execute_result",
          "data": {
            "text/plain": [
              "['I man affect mankind concern .',\n",
              " 'I terrorist .',\n",
              " 'I revolutionary definite object life .',\n",
              " 'I guilty charge .',\n",
              " 'I want glorify , I want explain idea .',\n",
              " 'We lunatic , prosecution allege , revolutionary .',\n",
              " 'I want tell British ruler power earth stop march idea .',\n",
              " 'They kill individual , kill idea .',\n",
              " 'Great empire crumble , idea survive .']"
            ]
          },
          "metadata": {},
          "execution_count": 80
        }
      ]
    },
    {
      "cell_type": "code",
      "source": [],
      "metadata": {
        "id": "FxM2_PqMIJ21"
      },
      "execution_count": null,
      "outputs": []
    }
  ]
}